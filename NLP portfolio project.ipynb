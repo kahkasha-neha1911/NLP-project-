{
 "cells": [
  {
   "cell_type": "markdown",
   "id": "1381248d",
   "metadata": {},
   "source": [
    "Will be analyzing text message data using Natural Language Processing techniques and libraries.\n",
    "\n",
    "Project Objectives:\n",
    "\n",
    "Import and look over your dataset.\n",
    "Conduct text-preprocessing.\n",
    "Plan and conduct any number of NLP techniques to analyze and gain insight into the data."
   ]
  },
  {
   "cell_type": "markdown",
   "id": "1cb360c0",
   "metadata": {},
   "source": [
    "# Import the data set "
   ]
  },
  {
   "cell_type": "code",
   "execution_count": 1,
   "id": "7a839191",
   "metadata": {},
   "outputs": [
    {
     "data": {
      "text/html": [
       "<div>\n",
       "<style scoped>\n",
       "    .dataframe tbody tr th:only-of-type {\n",
       "        vertical-align: middle;\n",
       "    }\n",
       "\n",
       "    .dataframe tbody tr th {\n",
       "        vertical-align: top;\n",
       "    }\n",
       "\n",
       "    .dataframe thead th {\n",
       "        text-align: right;\n",
       "    }\n",
       "</style>\n",
       "<table border=\"1\" class=\"dataframe\">\n",
       "  <thead>\n",
       "    <tr style=\"text-align: right;\">\n",
       "      <th></th>\n",
       "      <th>Unnamed: 0</th>\n",
       "      <th>id</th>\n",
       "      <th>Message</th>\n",
       "      <th>length</th>\n",
       "      <th>country</th>\n",
       "      <th>Date</th>\n",
       "    </tr>\n",
       "  </thead>\n",
       "  <tbody>\n",
       "    <tr>\n",
       "      <th>0</th>\n",
       "      <td>0</td>\n",
       "      <td>10120</td>\n",
       "      <td>Bugis oso near wat...</td>\n",
       "      <td>21</td>\n",
       "      <td>SG</td>\n",
       "      <td>2003/4</td>\n",
       "    </tr>\n",
       "    <tr>\n",
       "      <th>1</th>\n",
       "      <td>1</td>\n",
       "      <td>10121</td>\n",
       "      <td>Go until jurong point, crazy.. Available only ...</td>\n",
       "      <td>111</td>\n",
       "      <td>SG</td>\n",
       "      <td>2003/4</td>\n",
       "    </tr>\n",
       "    <tr>\n",
       "      <th>2</th>\n",
       "      <td>2</td>\n",
       "      <td>10122</td>\n",
       "      <td>I dunno until when... Lets go learn pilates...</td>\n",
       "      <td>46</td>\n",
       "      <td>SG</td>\n",
       "      <td>2003/4</td>\n",
       "    </tr>\n",
       "    <tr>\n",
       "      <th>3</th>\n",
       "      <td>3</td>\n",
       "      <td>10123</td>\n",
       "      <td>Den only weekdays got special price... Haiz......</td>\n",
       "      <td>140</td>\n",
       "      <td>SG</td>\n",
       "      <td>2003/4</td>\n",
       "    </tr>\n",
       "    <tr>\n",
       "      <th>4</th>\n",
       "      <td>4</td>\n",
       "      <td>10124</td>\n",
       "      <td>Meet after lunch la...</td>\n",
       "      <td>22</td>\n",
       "      <td>SG</td>\n",
       "      <td>2003/4</td>\n",
       "    </tr>\n",
       "  </tbody>\n",
       "</table>\n",
       "</div>"
      ],
      "text/plain": [
       "   Unnamed: 0     id                                            Message  \\\n",
       "0           0  10120                              Bugis oso near wat...   \n",
       "1           1  10121  Go until jurong point, crazy.. Available only ...   \n",
       "2           2  10122     I dunno until when... Lets go learn pilates...   \n",
       "3           3  10123  Den only weekdays got special price... Haiz......   \n",
       "4           4  10124                             Meet after lunch la...   \n",
       "\n",
       "  length country    Date  \n",
       "0     21      SG  2003/4  \n",
       "1    111      SG  2003/4  \n",
       "2     46      SG  2003/4  \n",
       "3    140      SG  2003/4  \n",
       "4     22      SG  2003/4  "
      ]
     },
     "execution_count": 1,
     "metadata": {},
     "output_type": "execute_result"
    }
   ],
   "source": [
    "import pandas as pd \n",
    "df = pd.read_csv('clean_nus_sms.csv')\n",
    "df.head()"
   ]
  },
  {
   "cell_type": "code",
   "execution_count": 2,
   "id": "e8ac3d84",
   "metadata": {},
   "outputs": [
    {
     "name": "stdout",
     "output_type": "stream",
     "text": [
      "<class 'pandas.core.frame.DataFrame'>\n",
      "RangeIndex: 48598 entries, 0 to 48597\n",
      "Data columns (total 6 columns):\n",
      " #   Column      Non-Null Count  Dtype \n",
      "---  ------      --------------  ----- \n",
      " 0   Unnamed: 0  48598 non-null  int64 \n",
      " 1   id          48598 non-null  int64 \n",
      " 2   Message     48595 non-null  object\n",
      " 3   length      48598 non-null  object\n",
      " 4   country     48598 non-null  object\n",
      " 5   Date        48598 non-null  object\n",
      "dtypes: int64(2), object(4)\n",
      "memory usage: 2.2+ MB\n"
     ]
    }
   ],
   "source": [
    "df.info()"
   ]
  },
  {
   "cell_type": "code",
   "execution_count": 3,
   "id": "69e0cecc",
   "metadata": {},
   "outputs": [
    {
     "data": {
      "text/plain": [
       "Unnamed: 0    0\n",
       "id            0\n",
       "Message       3\n",
       "length        0\n",
       "country       0\n",
       "Date          0\n",
       "dtype: int64"
      ]
     },
     "execution_count": 3,
     "metadata": {},
     "output_type": "execute_result"
    }
   ],
   "source": [
    "df.isnull().sum()"
   ]
  },
  {
   "cell_type": "code",
   "execution_count": 8,
   "id": "37e2a143",
   "metadata": {},
   "outputs": [],
   "source": [
    "df.dropna(inplace = True)# dropping null values "
   ]
  },
  {
   "cell_type": "code",
   "execution_count": 9,
   "id": "4cec56d1",
   "metadata": {},
   "outputs": [
    {
     "data": {
      "text/plain": [
       "Unnamed: 0    0\n",
       "id            0\n",
       "Message       0\n",
       "length        0\n",
       "country       0\n",
       "Date          0\n",
       "dtype: int64"
      ]
     },
     "execution_count": 9,
     "metadata": {},
     "output_type": "execute_result"
    }
   ],
   "source": [
    "df.isnull().sum() #checking the null values are dropped or not "
   ]
  },
  {
   "cell_type": "code",
   "execution_count": 10,
   "id": "b6b69e69",
   "metadata": {},
   "outputs": [],
   "source": [
    "import pandas as pd\n",
    "import re\n",
    "import spacy\n",
    "from sklearn.feature_extraction.text import TfidfVectorizer\n",
    "from textblob import TextBlob\n",
    "\n",
    "# Load SpaCy's English NLP model\n",
    "nlp = spacy.load(\"en_core_web_sm\")"
   ]
  },
  {
   "cell_type": "code",
   "execution_count": null,
   "id": "48136c88",
   "metadata": {},
   "outputs": [],
   "source": []
  },
  {
   "cell_type": "markdown",
   "id": "bf15e547",
   "metadata": {},
   "source": [
    "# Text processing function"
   ]
  },
  {
   "cell_type": "code",
   "execution_count": 11,
   "id": "f897d3cf",
   "metadata": {},
   "outputs": [
    {
     "name": "stdout",
     "output_type": "stream",
     "text": [
      "                                                 Message  \\\n",
      "0                                  Bugis oso near wat...   \n",
      "1      Go until jurong point, crazy.. Available only ...   \n",
      "2         I dunno until when... Lets go learn pilates...   \n",
      "3      Den only weekdays got special price... Haiz......   \n",
      "4                                 Meet after lunch la...   \n",
      "...                                                  ...   \n",
      "48593                              Come to me AFTER NOON   \n",
      "48594                                     I LOVE YOU TOO   \n",
      "48595                                               C-YA   \n",
      "48596                                        BE MY GUEST   \n",
      "48597                              MANY MANY MANY PEOPLE   \n",
      "\n",
      "                                         cleaned_message  \n",
      "0                                     bugis oso near wat  \n",
      "1      jurong point crazy available bugis n great wor...  \n",
      "2                                 dunno let learn pilate  \n",
      "3      den weekday get special price haiz not eat lia...  \n",
      "4                                          meet lunch la  \n",
      "...                                                  ...  \n",
      "48593                                          come noon  \n",
      "48594                                               love  \n",
      "48595                                                cya  \n",
      "48596                                              guest  \n",
      "48597                                             people  \n",
      "\n",
      "[48595 rows x 2 columns]\n"
     ]
    }
   ],
   "source": [
    "def preprocess_text(text):\n",
    "    # Convert to lowercase\n",
    "    text = text.lower()\n",
    "\n",
    "    # Remove special characters, numbers, and punctuations\n",
    "    text = re.sub(r\"[^a-zA-Z\\s]\", \"\", text)\n",
    "\n",
    "    # Process text using SpaCy\n",
    "    doc = nlp(text)\n",
    "\n",
    "    # Lemmatization & Stopword Removal\n",
    "    tokens = [token.lemma_ for token in doc if not token.is_stop]\n",
    "\n",
    "    return \" \".join(tokens)\n",
    "\n",
    "# Apply preprocessing\n",
    "df[\"cleaned_message\"] = df[\"Message\"].apply(preprocess_text)\n",
    "\n",
    "# Display cleaned messages\n",
    "print(df[[\"Message\", \"cleaned_message\"]])\n"
   ]
  },
  {
   "cell_type": "markdown",
   "id": "4daf8c71",
   "metadata": {},
   "source": [
    "# NLP techniques"
   ]
  },
  {
   "cell_type": "code",
   "execution_count": 12,
   "id": "06233d79",
   "metadata": {},
   "outputs": [
    {
     "name": "stdout",
     "output_type": "stream",
     "text": [
      "                                         cleaned_message  \\\n",
      "0                                     bugis oso near wat   \n",
      "1      jurong point crazy available bugis n great wor...   \n",
      "2                                 dunno let learn pilate   \n",
      "3      den weekday get special price haiz not eat lia...   \n",
      "4                                          meet lunch la   \n",
      "...                                                  ...   \n",
      "48593                                          come noon   \n",
      "48594                                               love   \n",
      "48595                                                cya   \n",
      "48596                                              guest   \n",
      "48597                                             people   \n",
      "\n",
      "                                                POS_tags  \n",
      "0      [(bugis, ADJ), (oso, NOUN), (near, ADP), (wat,...  \n",
      "1      [(jurong, PROPN), (point, NOUN), (crazy, PROPN...  \n",
      "2      [(dunno, NOUN), (let, AUX), (learn, VERB), (pi...  \n",
      "3      [(den, VERB), (weekday, NOUN), (get, VERB), (s...  \n",
      "4              [(meet, VERB), (lunch, NOUN), (la, INTJ)]  \n",
      "...                                                  ...  \n",
      "48593                       [(come, VERB), (noon, NOUN)]  \n",
      "48594                                     [(love, NOUN)]  \n",
      "48595                                      [(cya, VERB)]  \n",
      "48596                                    [(guest, NOUN)]  \n",
      "48597                                   [(people, NOUN)]  \n",
      "\n",
      "[48595 rows x 2 columns]\n"
     ]
    }
   ],
   "source": [
    "def pos_tagging(text):\n",
    "    doc = nlp(text)\n",
    "    return [(token.text, token.pos_) for token in doc]\n",
    "\n",
    "df[\"POS_tags\"] = df[\"cleaned_message\"].apply(pos_tagging)\n",
    "\n",
    "# Print POS tagging\n",
    "print(df[[\"cleaned_message\", \"POS_tags\"]])\n"
   ]
  },
  {
   "cell_type": "code",
   "execution_count": null,
   "id": "78354a3b",
   "metadata": {},
   "outputs": [],
   "source": []
  },
  {
   "cell_type": "markdown",
   "id": "99319a68",
   "metadata": {},
   "source": [
    "# Named Entity Recognition (NER)"
   ]
  },
  {
   "cell_type": "code",
   "execution_count": null,
   "id": "0b53c06a",
   "metadata": {},
   "outputs": [],
   "source": [
    "def named_entity_recognition(text):\n",
    "    doc = nlp(text)\n",
    "    return [(ent.text, ent.label_) for ent in doc.ents]\n",
    "\n",
    "df[\"NER\"] = df[\"Message\"].apply(named_entity_recognition)\n",
    "\n",
    "# Print named entities\n",
    "print(df[[\"Message\", \"NER\"]])\n"
   ]
  },
  {
   "cell_type": "markdown",
   "id": "15f161a7",
   "metadata": {},
   "source": [
    "# Sentiment Analysis"
   ]
  },
  {
   "cell_type": "code",
   "execution_count": null,
   "id": "b76e1ce0",
   "metadata": {},
   "outputs": [],
   "source": [
    "def sentiment_analysis(text):\n",
    "    return TextBlob(text).sentiment.polarity  # Returns polarity (-1 to 1)\n",
    "\n",
    "df[\"sentiment_score\"] = df[\"Message\"].apply(sentiment_analysis)\n",
    "\n",
    "# Print sentiment scores\n",
    "print(df[[\"Message\", \"sentiment_score\"]])\n"
   ]
  },
  {
   "cell_type": "markdown",
   "id": "f303c4e3",
   "metadata": {},
   "source": [
    "# Word Vectorization (TF-IDF)"
   ]
  },
  {
   "cell_type": "code",
   "execution_count": null,
   "id": "f1370c0a",
   "metadata": {},
   "outputs": [],
   "source": [
    "vectorizer = TfidfVectorizer()\n",
    "X = vectorizer.fit_transform(df[\"cleaned_message\"])\n",
    "\n",
    "# Convert to DataFrame\n",
    "tfidf_df = pd.DataFrame(X.toarray(), columns=vectorizer.get_feature_names_out())\n",
    "\n",
    "# Print TF-IDF features\n",
    "print(tfidf_df)\n"
   ]
  },
  {
   "cell_type": "markdown",
   "id": "0995d283",
   "metadata": {},
   "source": [
    "Insights from the Analysis\n",
    "✅ Preprocessing cleans text for analysis.\n",
    "✅ POS tagging helps understand word roles.\n",
    "✅ NER identifies important entities like locations.\n",
    "✅ Sentiment analysis shows emotional tone.\n",
    "✅ TF-IDF highlights key terms in messages.\n",
    "\n"
   ]
  },
  {
   "cell_type": "code",
   "execution_count": null,
   "id": "a0669207",
   "metadata": {},
   "outputs": [],
   "source": []
  },
  {
   "cell_type": "code",
   "execution_count": null,
   "id": "f7e0bab3",
   "metadata": {},
   "outputs": [],
   "source": []
  }
 ],
 "metadata": {
  "kernelspec": {
   "display_name": "Python 3 (ipykernel)",
   "language": "python",
   "name": "python3"
  },
  "language_info": {
   "codemirror_mode": {
    "name": "ipython",
    "version": 3
   },
   "file_extension": ".py",
   "mimetype": "text/x-python",
   "name": "python",
   "nbconvert_exporter": "python",
   "pygments_lexer": "ipython3",
   "version": "3.10.9"
  }
 },
 "nbformat": 4,
 "nbformat_minor": 5
}
